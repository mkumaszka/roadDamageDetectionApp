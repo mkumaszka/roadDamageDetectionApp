{
 "cells": [
  {
   "cell_type": "code",
   "execution_count": 1,
   "metadata": {},
   "outputs": [],
   "source": [
    "import os\n",
    "\n",
    "import xml.etree.ElementTree as ET\n",
    "\n",
    "import collections\n",
    "import matplotlib.pyplot as plt\n",
    "import matplotlib as matplot\n",
    "import numpy as np\n",
    "import pandas as pd\n",
    "import seaborn as sns\n",
    "%matplotlib inline"
   ]
  },
  {
   "cell_type": "code",
   "execution_count": 2,
   "metadata": {},
   "outputs": [],
   "source": [
    "def get_properties(obj):\n",
    "    properties = {}\n",
    "    properties['xmin'] = float(obj.find('xmin').text)\n",
    "    properties['xmax'] = float(obj.find('xmax').text)\n",
    "    properties['ymin'] = float(obj.find('ymin').text)\n",
    "    properties['ymax'] = float(obj.find('ymax').text)\n",
    "    properties['width'] = properties['xmax'] - properties['xmin']\n",
    "    properties['height'] = properties['ymax'] - properties['ymin']\n",
    "    return properties\n",
    "    "
   ]
  },
  {
   "cell_type": "code",
   "execution_count": 3,
   "metadata": {},
   "outputs": [],
   "source": [
    "main_path = \"C:\\\\Users\\\\Martyna\\\\Desktop\\\\Studia\\\\INZ\\\\dane\\\\RoadDamageDataset\\\\\"\n",
    "\n",
    "damageTypes=[\"D00\", \"D01\", \"D10\", \"D11\", \"D20\", \"D40\", \"D43\", \"D44\"]\n",
    "\n",
    "# govs corresponds to municipality name.\n",
    "govs = [\"Adachi\", \"Chiba\", \"Ichihara\", \"Muroran\", \"Nagakute\", \"Numazu\", \"Sumida\"]"
   ]
  },
  {
   "cell_type": "code",
   "execution_count": 4,
   "metadata": {},
   "outputs": [
    {
     "name": "stdout",
     "output_type": "stream",
     "text": [
      "total\n",
      "# of images：9053\n",
      "# of labels：15457\n"
     ]
    }
   ],
   "source": [
    "# the number of total images and total labels.\n",
    "cls_names = []\n",
    "total_images = 0\n",
    "total_objects = 0\n",
    "df = pd.DataFrame(columns=['label','gov','width', 'height', 'xmin', 'xmax', 'ymin', 'ymax'])\n",
    "for gov in govs:\n",
    "    \n",
    "    file_list = os.listdir(main_path + gov + \"\\\\Annotations\\\\\" )\n",
    "\n",
    "    for file in file_list:\n",
    "        if file =='.DS_Store' or '._' in file:\n",
    "            continue\n",
    "        else:\n",
    "            total_images = total_images + 1\n",
    "            infile_xml = open(main_path + gov + \"\\\\Annotations\\\\\" + file)\n",
    "            tree = ET.parse(infile_xml)\n",
    "            root = tree.getroot()\n",
    "            for obj in root.iter('object'):\n",
    "                cls_name = obj.find('name').text\n",
    "                properties = get_properties(obj.find('bndbox'))\n",
    "                cls_names.append(cls_name)\n",
    "                df.loc[total_objects] = [cls_name, gov, properties['width'], properties['height'], \n",
    "                              properties['xmin'], properties['xmax'], properties['ymin'], \n",
    "                              properties['ymax'],]\n",
    "                total_objects = total_objects + 1\n",
    "            \n",
    "print(\"total\")\n",
    "print(\"# of images：\" + str(total_images))\n",
    "print(\"# of labels：\" + str(len(cls_names)))"
   ]
  },
  {
   "cell_type": "code",
   "execution_count": 12,
   "metadata": {},
   "outputs": [
    {
     "name": "stdout",
     "output_type": "stream",
     "text": [
      "D00 : 2768, 17.90774406417804 %\n",
      "D01 : 3789, 24.513165556058745 %\n",
      "D10 : 742, 4.800414051885877 %\n",
      "D11 : 636, 4.1146406159021796 %\n",
      "D20 : 2541, 16.439153781458238 %\n",
      "D40 : 409, 2.646050333182377 %\n",
      "D43 : 817, 5.285631105647926 %\n",
      "D44 : 3733, 24.15087015591641 %\n"
     ]
    },
    {
     "data": {
      "text/plain": [
       "<matplotlib.axes._subplots.AxesSubplot at 0x23561969320>"
      ]
     },
     "execution_count": 12,
     "metadata": {},
     "output_type": "execute_result"
    },
    {
     "data": {
      "image/png": "[encoded data removed]",
      "text/plain": [
       "<matplotlib.figure.Figure at 0x235658310b8>"
      ]
     },
     "metadata": {},
     "output_type": "display_data"
    }
   ],
   "source": [
    "# the number of each class labels.\n",
    "count_dict = collections.Counter(cls_names)\n",
    "cls_count = []\n",
    "for damageType in damageTypes:\n",
    "    print(str(damageType) + ' : ' + \"{}, {} %\".format(count_dict[damageType], count_dict[damageType]/len(cls_names) * 100))\n",
    "    cls_count.append(count_dict[damageType])\n",
    "    \n",
    "sns.set_palette(\"winter\", 8)\n",
    "sns.barplot(damageTypes, cls_count)"
   ]
  },
  {
   "cell_type": "code",
   "execution_count": 7,
   "metadata": {},
   "outputs": [
    {
     "name": "stdout",
     "output_type": "stream",
     "text": [
      "D00 : 538, 18.13279406808224 %\n",
      "D01 : 754, 25.412874957869903 %\n",
      "D10 : 107, 3.606336366700371 %\n",
      "D11 : 117, 3.9433771486349847 %\n",
      "D20 : 505, 17.020559487698012 %\n",
      "D40 : 84, 2.8311425682507583 %\n",
      "D43 : 149, 5.02190765082575 %\n",
      "D44 : 708, 23.86248736097068 %\n"
     ]
    },
    {
     "data": {
      "text/plain": [
       "<matplotlib.axes._subplots.AxesSubplot at 0x23565068f60>"
      ]
     },
     "execution_count": 7,
     "metadata": {},
     "output_type": "execute_result"
    },
    {
     "data": {
      "image/png": "[encoded data removed]",
      "text/plain": [
       "<matplotlib.figure.Figure at 0x23564e5f6a0>"
      ]
     },
     "metadata": {},
     "output_type": "display_data"
    }
   ],
   "source": [
    "# the number of each class labels in train dataset \n",
    "file_path = r'C:\\Users\\Martyna\\Desktop\\Studia\\INZ\\dane\\RoadDamageDataset\\train\\anno'\n",
    "file_list = os.listdir(file_path)\n",
    "cls_names = []\n",
    "cls_count = []\n",
    "total_images = 0\n",
    "for file in file_list:\n",
    "    if file =='.DS_Store' or '._' in file:\n",
    "        continue\n",
    "    else:\n",
    "        total_images = total_images + 1\n",
    "        infile_xml = open(file_path + '\\\\' + file)\n",
    "        tree = ET.parse(infile_xml)\n",
    "        root = tree.getroot()\n",
    "        for obj in root.iter('object'):\n",
    "            cls_name = obj.find('name').text\n",
    "            properties = get_properties(obj.find('bndbox'))\n",
    "            cls_names.append(cls_name)\n",
    "            \n",
    "count_dict = collections.Counter(cls_names)\n",
    "            \n",
    "for damageType in damageTypes:\n",
    "    print(str(damageType) + ' : ' + \"{}, {} %\".format(count_dict[damageType], count_dict[damageType]/len(cls_names) * 100))\n",
    "    cls_count.append(count_dict[damageType])\n",
    "    \n",
    "sns.set_palette(\"winter\", 8)\n",
    "sns.barplot(damageTypes, cls_count)"
   ]
  },
  {
   "cell_type": "code",
   "execution_count": 10,
   "metadata": {},
   "outputs": [
    {
     "name": "stdout",
     "output_type": "stream",
     "text": [
      "D00 : 2230, 17.854283426741393 %\n",
      "D01 : 3035, 24.299439551641314 %\n",
      "D10 : 635, 5.084067253803042 %\n",
      "D11 : 519, 4.155324259407526 %\n",
      "D20 : 2036, 16.301040832666132 %\n",
      "D40 : 325, 2.602081665332266 %\n",
      "D43 : 668, 5.348278622898318 %\n",
      "D44 : 3025, 24.219375500400318 %\n"
     ]
    },
    {
     "data": {
      "text/plain": [
       "<matplotlib.axes._subplots.AxesSubplot at 0x2356563afd0>"
      ]
     },
     "execution_count": 10,
     "metadata": {},
     "output_type": "execute_result"
    },
    {
     "data": {
      "image/png": "[encoded data removed]",
      "text/plain": [
       "<matplotlib.figure.Figure at 0x2356508fcf8>"
      ]
     },
     "metadata": {},
     "output_type": "display_data"
    }
   ],
   "source": [
    "# the number of each class labels in test dataset \n",
    "file_path = r'C:\\Users\\Martyna\\Desktop\\Studia\\INZ\\dane\\RoadDamageDataset\\test\\anno'\n",
    "file_list = os.listdir(file_path)\n",
    "cls_names = []\n",
    "cls_count = []\n",
    "total_images = 0\n",
    "for file in file_list:\n",
    "    if file =='.DS_Store' or '._' in file:\n",
    "        continue\n",
    "    else:\n",
    "        total_images = total_images + 1\n",
    "        infile_xml = open(file_path + '\\\\' + file)\n",
    "        tree = ET.parse(infile_xml)\n",
    "        root = tree.getroot()\n",
    "        for obj in root.iter('object'):\n",
    "            cls_name = obj.find('name').text\n",
    "            properties = get_properties(obj.find('bndbox'))\n",
    "            cls_names.append(cls_name)\n",
    "            \n",
    "count_dict = collections.Counter(cls_names)\n",
    "\n",
    "for damageType in damageTypes:\n",
    "    print(str(damageType) + ' : ' + \"{}, {} %\".format(count_dict[damageType], count_dict[damageType]/len(cls_names) * 100))\n",
    "    cls_count.append(count_dict[damageType])\n",
    "    \n",
    "sns.set_palette(\"winter\", 8)\n",
    "sns.barplot(damageTypes, cls_count)"
   ]
  },
  {
   "cell_type": "code",
   "execution_count": 5,
   "metadata": {},
   "outputs": [
    {
     "data": {
      "text/html": [
       "<div>\n",
       "<style scoped>\n",
       "    .dataframe tbody tr th:only-of-type {\n",
       "        vertical-align: middle;\n",
       "    }\n",
       "\n",
       "    .dataframe tbody tr th {\n",
       "        vertical-align: top;\n",
       "    }\n",
       "\n",
       "    .dataframe thead th {\n",
       "        text-align: right;\n",
       "    }\n",
       "</style>\n",
       "<table border=\"1\" class=\"dataframe\">\n",
       "  <thead>\n",
       "    <tr style=\"text-align: right;\">\n",
       "      <th></th>\n",
       "      <th>label</th>\n",
       "      <th>gov</th>\n",
       "      <th>width</th>\n",
       "      <th>height</th>\n",
       "      <th>xmin</th>\n",
       "      <th>xmax</th>\n",
       "      <th>ymin</th>\n",
       "      <th>ymax</th>\n",
       "    </tr>\n",
       "  </thead>\n",
       "  <tbody>\n",
       "    <tr>\n",
       "      <th>0</th>\n",
       "      <td>D20</td>\n",
       "      <td>Adachi</td>\n",
       "      <td>139.0</td>\n",
       "      <td>151.0</td>\n",
       "      <td>87.0</td>\n",
       "      <td>226.0</td>\n",
       "      <td>281.0</td>\n",
       "      <td>432.0</td>\n",
       "    </tr>\n",
       "    <tr>\n",
       "      <th>1</th>\n",
       "      <td>D20</td>\n",
       "      <td>Adachi</td>\n",
       "      <td>202.0</td>\n",
       "      <td>252.0</td>\n",
       "      <td>1.0</td>\n",
       "      <td>203.0</td>\n",
       "      <td>346.0</td>\n",
       "      <td>598.0</td>\n",
       "    </tr>\n",
       "    <tr>\n",
       "      <th>2</th>\n",
       "      <td>D43</td>\n",
       "      <td>Adachi</td>\n",
       "      <td>472.0</td>\n",
       "      <td>112.0</td>\n",
       "      <td>127.0</td>\n",
       "      <td>599.0</td>\n",
       "      <td>267.0</td>\n",
       "      <td>379.0</td>\n",
       "    </tr>\n",
       "    <tr>\n",
       "      <th>3</th>\n",
       "      <td>D20</td>\n",
       "      <td>Adachi</td>\n",
       "      <td>200.0</td>\n",
       "      <td>233.0</td>\n",
       "      <td>32.0</td>\n",
       "      <td>232.0</td>\n",
       "      <td>366.0</td>\n",
       "      <td>599.0</td>\n",
       "    </tr>\n",
       "    <tr>\n",
       "      <th>4</th>\n",
       "      <td>D44</td>\n",
       "      <td>Adachi</td>\n",
       "      <td>209.0</td>\n",
       "      <td>224.0</td>\n",
       "      <td>346.0</td>\n",
       "      <td>555.0</td>\n",
       "      <td>371.0</td>\n",
       "      <td>595.0</td>\n",
       "    </tr>\n",
       "  </tbody>\n",
       "</table>\n",
       "</div>"
      ],
      "text/plain": [
       "  label     gov  width  height   xmin   xmax   ymin   ymax\n",
       "0   D20  Adachi  139.0   151.0   87.0  226.0  281.0  432.0\n",
       "1   D20  Adachi  202.0   252.0    1.0  203.0  346.0  598.0\n",
       "2   D43  Adachi  472.0   112.0  127.0  599.0  267.0  379.0\n",
       "3   D20  Adachi  200.0   233.0   32.0  232.0  366.0  599.0\n",
       "4   D44  Adachi  209.0   224.0  346.0  555.0  371.0  595.0"
      ]
     },
     "execution_count": 5,
     "metadata": {},
     "output_type": "execute_result"
    }
   ],
   "source": [
    "df.head()"
   ]
  },
  {
   "cell_type": "code",
   "execution_count": 6,
   "metadata": {},
   "outputs": [
    {
     "data": {
      "text/html": [
       "<div>\n",
       "<style scoped>\n",
       "    .dataframe tbody tr th:only-of-type {\n",
       "        vertical-align: middle;\n",
       "    }\n",
       "\n",
       "    .dataframe tbody tr th {\n",
       "        vertical-align: top;\n",
       "    }\n",
       "\n",
       "    .dataframe thead th {\n",
       "        text-align: right;\n",
       "    }\n",
       "</style>\n",
       "<table border=\"1\" class=\"dataframe\">\n",
       "  <thead>\n",
       "    <tr style=\"text-align: right;\">\n",
       "      <th></th>\n",
       "      <th>width</th>\n",
       "      <th>height</th>\n",
       "      <th>xmin</th>\n",
       "      <th>xmax</th>\n",
       "      <th>ymin</th>\n",
       "      <th>ymax</th>\n",
       "    </tr>\n",
       "  </thead>\n",
       "  <tbody>\n",
       "    <tr>\n",
       "      <th>count</th>\n",
       "      <td>15457.000000</td>\n",
       "      <td>15457.000000</td>\n",
       "      <td>15457.00000</td>\n",
       "      <td>15457.000000</td>\n",
       "      <td>15457.000000</td>\n",
       "      <td>15457.000000</td>\n",
       "    </tr>\n",
       "    <tr>\n",
       "      <th>mean</th>\n",
       "      <td>204.236333</td>\n",
       "      <td>163.151776</td>\n",
       "      <td>213.47823</td>\n",
       "      <td>417.714563</td>\n",
       "      <td>376.937245</td>\n",
       "      <td>540.089021</td>\n",
       "    </tr>\n",
       "    <tr>\n",
       "      <th>std</th>\n",
       "      <td>143.287509</td>\n",
       "      <td>81.553790</td>\n",
       "      <td>142.57081</td>\n",
       "      <td>149.020945</td>\n",
       "      <td>76.927116</td>\n",
       "      <td>71.837078</td>\n",
       "    </tr>\n",
       "    <tr>\n",
       "      <th>min</th>\n",
       "      <td>10.000000</td>\n",
       "      <td>11.000000</td>\n",
       "      <td>1.00000</td>\n",
       "      <td>40.000000</td>\n",
       "      <td>42.000000</td>\n",
       "      <td>87.000000</td>\n",
       "    </tr>\n",
       "    <tr>\n",
       "      <th>25%</th>\n",
       "      <td>100.000000</td>\n",
       "      <td>98.000000</td>\n",
       "      <td>84.00000</td>\n",
       "      <td>287.000000</td>\n",
       "      <td>329.000000</td>\n",
       "      <td>506.000000</td>\n",
       "    </tr>\n",
       "    <tr>\n",
       "      <th>50%</th>\n",
       "      <td>164.000000</td>\n",
       "      <td>157.000000</td>\n",
       "      <td>224.00000</td>\n",
       "      <td>429.000000</td>\n",
       "      <td>381.000000</td>\n",
       "      <td>570.000000</td>\n",
       "    </tr>\n",
       "    <tr>\n",
       "      <th>75%</th>\n",
       "      <td>255.000000</td>\n",
       "      <td>225.000000</td>\n",
       "      <td>332.00000</td>\n",
       "      <td>574.000000</td>\n",
       "      <td>431.000000</td>\n",
       "      <td>595.000000</td>\n",
       "    </tr>\n",
       "    <tr>\n",
       "      <th>max</th>\n",
       "      <td>599.000000</td>\n",
       "      <td>547.000000</td>\n",
       "      <td>557.00000</td>\n",
       "      <td>600.000000</td>\n",
       "      <td>581.000000</td>\n",
       "      <td>600.000000</td>\n",
       "    </tr>\n",
       "  </tbody>\n",
       "</table>\n",
       "</div>"
      ],
      "text/plain": [
       "              width        height         xmin          xmax          ymin  \\\n",
       "count  15457.000000  15457.000000  15457.00000  15457.000000  15457.000000   \n",
       "mean     204.236333    163.151776    213.47823    417.714563    376.937245   \n",
       "std      143.287509     81.553790    142.57081    149.020945     76.927116   \n",
       "min       10.000000     11.000000      1.00000     40.000000     42.000000   \n",
       "25%      100.000000     98.000000     84.00000    287.000000    329.000000   \n",
       "50%      164.000000    157.000000    224.00000    429.000000    381.000000   \n",
       "75%      255.000000    225.000000    332.00000    574.000000    431.000000   \n",
       "max      599.000000    547.000000    557.00000    600.000000    581.000000   \n",
       "\n",
       "               ymax  \n",
       "count  15457.000000  \n",
       "mean     540.089021  \n",
       "std       71.837078  \n",
       "min       87.000000  \n",
       "25%      506.000000  \n",
       "50%      570.000000  \n",
       "75%      595.000000  \n",
       "max      600.000000  "
      ]
     },
     "execution_count": 6,
     "metadata": {},
     "output_type": "execute_result"
    }
   ],
   "source": [
    "df.describe()"
   ]
  },
  {
   "cell_type": "code",
   "execution_count": 7,
   "metadata": {},
   "outputs": [
    {
     "data": {
      "text/plain": [
       "<matplotlib.axes._subplots.AxesSubplot at 0x1f93d30dd30>"
      ]
     },
     "execution_count": 7,
     "metadata": {},
     "output_type": "execute_result"
    },
    {
     "data": {
      "image/png": "[encoded data removed]",
      "text/plain": [
       "<matplotlib.figure.Figure at 0x1f93d2eccf8>"
      ]
     },
     "metadata": {},
     "output_type": "display_data"
    }
   ],
   "source": [
    "df.plot(x='width', y='height', style='o')"
   ]
  },
  {
   "cell_type": "code",
   "execution_count": 26,
   "metadata": {},
   "outputs": [],
   "source": [
    "class YOLO_Kmeans:\n",
    "\n",
    "    def __init__(self, cluster_number, filename):\n",
    "        self.cluster_number = cluster_number\n",
    "        self.filename = filename\n",
    "\n",
    "    def iou(self, boxes, clusters):  # 1 box -> k clusters\n",
    "        n = boxes.shape[0]\n",
    "        k = self.cluster_number\n",
    "\n",
    "        box_area = boxes[:, 0] * boxes[:, 1]\n",
    "        box_area = box_area.repeat(k)\n",
    "        box_area = np.reshape(box_area, (n, k))\n",
    "\n",
    "        cluster_area = clusters[:, 0] * clusters[:, 1]\n",
    "        cluster_area = np.tile(cluster_area, [1, n])\n",
    "        cluster_area = np.reshape(cluster_area, (n, k))\n",
    "\n",
    "        box_w_matrix = np.reshape(boxes[:, 0].repeat(k), (n, k))\n",
    "        cluster_w_matrix = np.reshape(np.tile(clusters[:, 0], (1, n)), (n, k))\n",
    "        min_w_matrix = np.minimum(cluster_w_matrix, box_w_matrix)\n",
    "\n",
    "        box_h_matrix = np.reshape(boxes[:, 1].repeat(k), (n, k))\n",
    "        cluster_h_matrix = np.reshape(np.tile(clusters[:, 1], (1, n)), (n, k))\n",
    "        min_h_matrix = np.minimum(cluster_h_matrix, box_h_matrix)\n",
    "        inter_area = np.multiply(min_w_matrix, min_h_matrix)\n",
    "\n",
    "        result = inter_area / (box_area + cluster_area - inter_area)\n",
    "        return result\n",
    "\n",
    "    def avg_iou(self, boxes, clusters):\n",
    "        accuracy = np.mean([np.max(self.iou(boxes, clusters), axis=1)])\n",
    "        return accuracy\n",
    "\n",
    "    def kmeans(self, boxes, k, dist=np.median):\n",
    "        box_number = boxes.shape[0]\n",
    "        distances = np.empty((box_number, k))\n",
    "        last_nearest = np.zeros((box_number,))\n",
    "        np.random.seed()\n",
    "        clusters = boxes[np.random.choice(\n",
    "            box_number, k, replace=False)]  # init k clusters\n",
    "        while True:\n",
    "\n",
    "            distances = 1 - self.iou(boxes, clusters)\n",
    "\n",
    "            current_nearest = np.argmin(distances, axis=1)\n",
    "            if (last_nearest == current_nearest).all():\n",
    "                break  # clusters won't change\n",
    "            for cluster in range(k):\n",
    "                clusters[cluster] = dist(  # update clusters\n",
    "                    boxes[current_nearest == cluster], axis=0)\n",
    "\n",
    "            last_nearest = current_nearest\n",
    "\n",
    "        return clusters\n",
    "\n",
    "    def txt2boxes(self):\n",
    "        f = open(self.filename, 'r')\n",
    "        dataSet = []\n",
    "        for line in f:\n",
    "            infos = line.split(\"<>\")\n",
    "            length = len(infos)\n",
    "            for i in range(1, length):\n",
    "                width = float(infos[i].split(\",\")[2]) - \\\n",
    "                    float(infos[i].split(\",\")[0])\n",
    "                height = float(infos[i].split(\",\")[3]) - \\\n",
    "                    float(infos[i].split(\",\")[1])\n",
    "                dataSet.append([width, height])\n",
    "        result = np.array(dataSet)\n",
    "        f.close()\n",
    "        return result\n",
    "\n",
    "    def txt2clusters(self):\n",
    "        all_boxes = self.txt2boxes()\n",
    "        result = self.kmeans(all_boxes, k=self.cluster_number)\n",
    "        result = result[np.lexsort(result.T[0, None])]\n",
    "        print(\"K anchors:\\n {}\".format(result))\n",
    "        print(\"Accuracy: {:.2f}%\".format(\n",
    "            self.avg_iou(all_boxes, result) * 100))\n",
    "        return result"
   ]
  },
  {
   "cell_type": "code",
   "execution_count": 58,
   "metadata": {},
   "outputs": [
    {
     "name": "stdout",
     "output_type": "stream",
     "text": [
      "K anchors:\n",
      " [[ 62.  82.]\n",
      " [116. 148.]\n",
      " [203. 226.]\n",
      " [267.  49.]\n",
      " [475. 209.]]\n",
      "Accuracy: 63.86%\n"
     ]
    }
   ],
   "source": [
    "    cluster_number = 5\n",
    "    filename = r\"C:\\Users\\Martyna\\Desktop\\Studia\\INZ\\dane\\RoadDamageDataset\\train_annotations.txt\"\n",
    "    kmeans = YOLO_Kmeans(cluster_number, filename)\n",
    "    result = kmeans.txt2clusters()"
   ]
  },
  {
   "cell_type": "code",
   "execution_count": 56,
   "metadata": {},
   "outputs": [],
   "source": [
    "def calculate_coords(x1, x2, w, h):\n",
    "    h = w/2\n",
    "    w = h/2\n",
    "    return [x1-w, x2+h, x1+w, x2-h]"
   ]
  },
  {
   "cell_type": "code",
   "execution_count": 57,
   "metadata": {},
   "outputs": [
    {
     "name": "stdout",
     "output_type": "stream",
     "text": [
      "[238.5, 273.0, 261.5, 227.0]\n",
      "[235.75, 278.5, 264.25, 221.5]\n",
      "[233.75, 282.5, 266.25, 217.5]\n",
      "[230.25, 289.5, 269.75, 210.5]\n",
      "[223.0, 304.0, 277.0, 196.0]\n",
      "[221.25, 307.5, 278.75, 192.5]\n",
      "[218.75, 312.5, 281.25, 187.5]\n",
      "[210.75, 328.5, 289.25, 171.5]\n",
      "[208.0, 334.0, 292.0, 166.0]\n",
      "[200.25, 349.5, 299.75, 150.5]\n",
      "[199.5, 351.0, 300.5, 149.0]\n",
      "[191.5, 367.0, 308.5, 133.0]\n",
      "[178.25, 393.5, 321.75, 106.5]\n",
      "[158.25, 433.5, 341.75, 66.5]\n",
      "[125.0, 500.0, 375.0, 0.0]\n",
      "[124.5, 501.0, 375.5, -1.0]\n"
     ]
    }
   ],
   "source": [
    "from PIL import Image, ImageDraw\n",
    "img = Image.new('RGB', (500, 500), (255, 255, 255))\n",
    "x1, x2 = 250, 250\n",
    "draw = ImageDraw.Draw(img, \"RGBA\")\n",
    "for single_res in result:\n",
    "    coords =  calculate_coords(x1, x2, single_res[0], single_res[1])\n",
    "    print(coords)\n",
    "    draw.rectangle(coords, outline='black')\n",
    "img.save('image.jpg')"
   ]
  },
  {
   "cell_type": "code",
   "execution_count": null,
   "metadata": {},
   "outputs": [],
   "source": []
  }
 ],
 "metadata": {
  "kernelspec": {
   "display_name": "Python [conda env:Anaconda3]",
   "language": "python",
   "name": "conda-env-Anaconda3-py"
  },
  "language_info": {
   "codemirror_mode": {
    "name": "ipython",
    "version": 3
   },
   "file_extension": ".py",
   "mimetype": "text/x-python",
   "name": "python",
   "nbconvert_exporter": "python",
   "pygments_lexer": "ipython3",
   "version": "3.6.4"
  }
 },
 "nbformat": 4,
 "nbformat_minor": 2
}
